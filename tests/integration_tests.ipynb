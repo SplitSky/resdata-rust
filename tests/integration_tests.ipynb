{
 "cells": [
  {
   "cell_type": "code",
   "execution_count": null,
   "id": "d1b1c1e1",
   "metadata": {},
   "outputs": [],
   "source": [
    "import requests\n",
    "\n",
    "base_url = \"http://127.0.0.1:8081\"\n",
    "\n",
    "def test_insert_dataset():\n",
    "    url = f\"{base_url}/insert\"\n",
    "    data = {\n",
    "        \"name\": \"Test\",\n",
    "        \"description\": \"Test description\"\n",
    "    }\n",
    "    response = requests.post(url, json=data)\n",
    "    assert response.status_code == 200\n",
    "\n",
    "def test_get_document():\n",
    "    url = f\"{base_url}/get/1\"\n",
    "    response = requests.get(url)\n",
    "    assert response.status_code == 200\n",
    "\n",
    "test_insert_dataset()\n",
    "test_get_document()"
   ]
  }
 ],
 "metadata": {
  "kernelspec": {
   "display_name": "Python 3",
   "language": "python",
   "name": "python3"
  },
  "language_info": {
   "codemirror_mode": {
    "name": "ipython",
    "version": 3
   },
   "file_extension": ".py",
   "mimetype": "text/x-python",
   "name": "python",
   "nbconvert_exporter": "python",
   "pygments_lexer": "ipython3",
   "version": "3.8.5"
  }
 },
 "nbformat": 4,
 "nbformat_minor": 5
}