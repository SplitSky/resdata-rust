{
 "cells": [
  {
   "cell_type": "markdown",
   "metadata": {},
   "source": [
    "### This notebook is used for running simple integration tests to verify the API calls work how I expect them to"
   ]
  },
  {
   "cell_type": "code",
   "execution_count": 11,
   "metadata": {},
   "outputs": [],
   "source": [
    "import requests\n",
    "import json"
   ]
  },
  {
   "cell_type": "markdown",
   "metadata": {},
   "source": [
    "## Test `/insert` Endpoint\n",
    "Insert a new dataset into the database."
   ]
  },
  {
   "cell_type": "code",
   "execution_count": 12,
   "metadata": {},
   "outputs": [
    {
     "name": "stdout",
     "output_type": "stream",
     "text": [
      "Status Code: 200\n",
      "Response: Document inserted\n"
     ]
    }
   ],
   "source": [
    "url = \"http://127.0.0.1:8080/insert\"\n",
    "payload = {\n",
    "    \"data\": [1, 2, 3],\n",
    "    \"headers\": [\"Header1\", \"Header2\"],\n",
    "    \"author\": [\"Author1\"]\n",
    "}\n",
    "response = requests.post(url, json=payload)\n",
    "print(\"Status Code:\", response.status_code)\n",
    "print(\"Response:\", response.json())"
   ]
  },
  {
   "cell_type": "markdown",
   "metadata": {},
   "source": [
    "## Test `/list` Endpoint\n",
    "Retrieve all datasets from the database."
   ]
  },
  {
   "cell_type": "code",
   "execution_count": 13,
   "metadata": {},
   "outputs": [
    {
     "name": "stdout",
     "output_type": "stream",
     "text": [
      "Status Code: 200\n",
      "Response: [\n",
      "  {\n",
      "    \"_id\": {\n",
      "      \"$oid\": \"6813bab397a0ef8d6c809afa\"\n",
      "    },\n",
      "    \"data\": [\n",
      "      1,\n",
      "      2,\n",
      "      3\n",
      "    ],\n",
      "    \"headers\": [\n",
      "      \"Header1\",\n",
      "      \"Header2\"\n",
      "    ],\n",
      "    \"author\": [\n",
      "      \"Author1\"\n",
      "    ]\n",
      "  },\n",
      "  {\n",
      "    \"_id\": {\n",
      "      \"$oid\": \"6813bc810707305fe8795810\"\n",
      "    },\n",
      "    \"data\": [\n",
      "      1,\n",
      "      2,\n",
      "      3\n",
      "    ],\n",
      "    \"headers\": [\n",
      "      \"Header1\",\n",
      "      \"Header2\"\n",
      "    ],\n",
      "    \"author\": [\n",
      "      \"Author1\"\n",
      "    ]\n",
      "  }\n",
      "]\n"
     ]
    }
   ],
   "source": [
    "url = \"http://127.0.0.1:8080/list\"\n",
    "response = requests.get(url)\n",
    "print(\"Status Code:\", response.status_code)\n",
    "print(\"Response:\", json.dumps(response.json(), indent=2))"
   ]
  },
  {
   "cell_type": "markdown",
   "metadata": {},
   "source": [
    "## Test `/get/{id}` Endpoint\n",
    "Retrieve a specific dataset by its ID."
   ]
  },
  {
   "cell_type": "code",
   "execution_count": 14,
   "metadata": {},
   "outputs": [
    {
     "name": "stdout",
     "output_type": "stream",
     "text": [
      "Status Code: 500\n",
      "Response: Failed to fetch document\n"
     ]
    }
   ],
   "source": [
    "# Replace `dataset_id` with an actual ID from the `/list` response\n",
    "dataset_id = \"<replace_with_actual_id>\"\n",
    "url = f\"http://127.0.0.1:8080/get/{dataset_id}\"\n",
    "response = requests.get(url)\n",
    "print(\"Status Code:\", response.status_code)\n",
    "print(\"Response:\", response.json())"
   ]
  }
 ],
 "metadata": {
  "kernelspec": {
   "display_name": ".venv",
   "language": "python",
   "name": "python3"
  },
  "language_info": {
   "codemirror_mode": {
    "name": "ipython",
    "version": 3
   },
   "file_extension": ".py",
   "mimetype": "text/x-python",
   "name": "python",
   "nbconvert_exporter": "python",
   "pygments_lexer": "ipython3",
   "version": "3.13.3"
  }
 },
 "nbformat": 4,
 "nbformat_minor": 2
}
